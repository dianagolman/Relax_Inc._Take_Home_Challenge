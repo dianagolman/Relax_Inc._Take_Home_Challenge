{
 "cells": [
  {
   "cell_type": "markdown",
   "id": "05354224",
   "metadata": {},
   "source": [
    "● name: the user's name\n",
    "● object_id: the user's id\n",
    "● email: email address\n",
    "● creation_source: how their account was created. This takes on one\n",
    "of 5 values:\n",
    "    ○ PERSONAL_PROJECTS: invited to join another user's\n",
    "    personal workspace\n",
    "    ○ GUEST_INVITE: invited to an organization as a guest\n",
    "    (limited permissions)\n",
    "    ○ ORG_INVITE: invited to an organization (as a full member)\n",
    "    ○ SIGNUP: signed up via the website\n",
    "    ○ SIGNUP_GOOGLE_AUTH: signed up using Google\n",
    "    Authentication (using a Google email account for their login\n",
    "    id)\n",
    "● creation_time: when they created their account\n",
    "● last_session_creation_time: unix timestamp of last login\n",
    "● opted_in_to_mailing_list: whether they have opted into receiving\n",
    "marketing emails\n",
    "● enabled_for_marketing_drip: whether they are on the regular\n",
    "marketing email drip\n",
    "● org_id: the organization (group of users) they belong to\n",
    "● invited_by_user_id: which user invited them to join (if applicable)."
   ]
  },
  {
   "cell_type": "code",
   "execution_count": 59,
   "id": "125870c2",
   "metadata": {},
   "outputs": [],
   "source": [
    "import numpy as np \n",
    "import pandas as pd \n",
    "import matplotlib.pyplot as plt \n",
    "import seaborn as sns\n",
    "import matplotlib.pyplot as plt\n",
    "import statsmodels.api as sm\n",
    "from sklearn.preprocessing import OneHotEncoder\n",
    "from sklearn.preprocessing import StandardScaler\n",
    "from sklearn.model_selection import train_test_split, cross_validate, GridSearchCV, learning_curve\n",
    "from sklearn.metrics import r2_score, mean_squared_error, mean_absolute_error\n",
    "from sklearn.feature_selection import SelectKBest, f_regression\n",
    "import sklearn.model_selection\n",
    "from datetime import datetime\n",
    "from sklearn.preprocessing import OneHotEncoder\n",
    "from sklearn.dummy import DummyClassifier\n",
    "from sklearn.model_selection import RepeatedKFold\n",
    "from sklearn.dummy import DummyRegressor\n",
    "from sklearn.linear_model import Lasso\n",
    "from sklearn.linear_model import RidgeClassifierCV\n",
    "from sklearn.linear_model import RidgeClassifier\n",
    "from sklearn.model_selection import cross_val_score\n",
    "from sklearn.linear_model import LogisticRegression\n",
    "from sklearn.tree import DecisionTreeClassifier\n",
    "from sklearn.model_selection import cross_val_score\n",
    "from sklearn.metrics import roc_auc_score"
   ]
  },
  {
   "cell_type": "code",
   "execution_count": 6,
   "id": "3c8af63e",
   "metadata": {},
   "outputs": [
    {
     "data": {
      "text/html": [
       "<div>\n",
       "<style scoped>\n",
       "    .dataframe tbody tr th:only-of-type {\n",
       "        vertical-align: middle;\n",
       "    }\n",
       "\n",
       "    .dataframe tbody tr th {\n",
       "        vertical-align: top;\n",
       "    }\n",
       "\n",
       "    .dataframe thead th {\n",
       "        text-align: right;\n",
       "    }\n",
       "</style>\n",
       "<table border=\"1\" class=\"dataframe\">\n",
       "  <thead>\n",
       "    <tr style=\"text-align: right;\">\n",
       "      <th></th>\n",
       "      <th>time_stamp</th>\n",
       "      <th>user_id</th>\n",
       "      <th>visited</th>\n",
       "    </tr>\n",
       "  </thead>\n",
       "  <tbody>\n",
       "    <tr>\n",
       "      <th>0</th>\n",
       "      <td>2014-04-22 03:53:30</td>\n",
       "      <td>1</td>\n",
       "      <td>1</td>\n",
       "    </tr>\n",
       "    <tr>\n",
       "      <th>1</th>\n",
       "      <td>2013-11-15 03:45:04</td>\n",
       "      <td>2</td>\n",
       "      <td>1</td>\n",
       "    </tr>\n",
       "    <tr>\n",
       "      <th>2</th>\n",
       "      <td>2013-11-29 03:45:04</td>\n",
       "      <td>2</td>\n",
       "      <td>1</td>\n",
       "    </tr>\n",
       "    <tr>\n",
       "      <th>3</th>\n",
       "      <td>2013-12-09 03:45:04</td>\n",
       "      <td>2</td>\n",
       "      <td>1</td>\n",
       "    </tr>\n",
       "    <tr>\n",
       "      <th>4</th>\n",
       "      <td>2013-12-25 03:45:04</td>\n",
       "      <td>2</td>\n",
       "      <td>1</td>\n",
       "    </tr>\n",
       "  </tbody>\n",
       "</table>\n",
       "</div>"
      ],
      "text/plain": [
       "            time_stamp  user_id  visited\n",
       "0  2014-04-22 03:53:30        1        1\n",
       "1  2013-11-15 03:45:04        2        1\n",
       "2  2013-11-29 03:45:04        2        1\n",
       "3  2013-12-09 03:45:04        2        1\n",
       "4  2013-12-25 03:45:04        2        1"
      ]
     },
     "execution_count": 6,
     "metadata": {},
     "output_type": "execute_result"
    }
   ],
   "source": [
    "logins=pd.read_csv('takehome_user_engagement.csv')\n",
    "logins.head()\n"
   ]
  },
  {
   "cell_type": "code",
   "execution_count": 7,
   "id": "4859ca56",
   "metadata": {},
   "outputs": [
    {
     "name": "stdout",
     "output_type": "stream",
     "text": [
      "<class 'pandas.core.frame.DataFrame'>\n",
      "RangeIndex: 207917 entries, 0 to 207916\n",
      "Data columns (total 3 columns):\n",
      " #   Column      Non-Null Count   Dtype \n",
      "---  ------      --------------   ----- \n",
      " 0   time_stamp  207917 non-null  object\n",
      " 1   user_id     207917 non-null  int64 \n",
      " 2   visited     207917 non-null  int64 \n",
      "dtypes: int64(2), object(1)\n",
      "memory usage: 4.8+ MB\n",
      "None\n",
      "             user_id   visited\n",
      "count  207917.000000  207917.0\n",
      "mean     5913.314197       1.0\n",
      "std      3394.941674       0.0\n",
      "min         1.000000       1.0\n",
      "25%      3087.000000       1.0\n",
      "50%      5682.000000       1.0\n",
      "75%      8944.000000       1.0\n",
      "max     12000.000000       1.0\n"
     ]
    }
   ],
   "source": [
    "print(logins.info())\n",
    "print(logins.describe())"
   ]
  },
  {
   "cell_type": "code",
   "execution_count": 8,
   "id": "f5ed1e82",
   "metadata": {},
   "outputs": [
    {
     "data": {
      "text/html": [
       "<div>\n",
       "<style scoped>\n",
       "    .dataframe tbody tr th:only-of-type {\n",
       "        vertical-align: middle;\n",
       "    }\n",
       "\n",
       "    .dataframe tbody tr th {\n",
       "        vertical-align: top;\n",
       "    }\n",
       "\n",
       "    .dataframe thead th {\n",
       "        text-align: right;\n",
       "    }\n",
       "</style>\n",
       "<table border=\"1\" class=\"dataframe\">\n",
       "  <thead>\n",
       "    <tr style=\"text-align: right;\">\n",
       "      <th></th>\n",
       "      <th>time_stamp</th>\n",
       "      <th>user_id</th>\n",
       "      <th>visited</th>\n",
       "      <th>day</th>\n",
       "    </tr>\n",
       "    <tr>\n",
       "      <th>user_id</th>\n",
       "      <th></th>\n",
       "      <th></th>\n",
       "      <th></th>\n",
       "      <th></th>\n",
       "    </tr>\n",
       "  </thead>\n",
       "  <tbody>\n",
       "    <tr>\n",
       "      <th>1</th>\n",
       "      <td>2014-04-22 03:53:30</td>\n",
       "      <td>1</td>\n",
       "      <td>1</td>\n",
       "      <td>112</td>\n",
       "    </tr>\n",
       "    <tr>\n",
       "      <th>2</th>\n",
       "      <td>2013-11-15 03:45:04</td>\n",
       "      <td>2</td>\n",
       "      <td>1</td>\n",
       "      <td>319</td>\n",
       "    </tr>\n",
       "    <tr>\n",
       "      <th>2</th>\n",
       "      <td>2013-11-29 03:45:04</td>\n",
       "      <td>2</td>\n",
       "      <td>1</td>\n",
       "      <td>333</td>\n",
       "    </tr>\n",
       "    <tr>\n",
       "      <th>2</th>\n",
       "      <td>2013-12-09 03:45:04</td>\n",
       "      <td>2</td>\n",
       "      <td>1</td>\n",
       "      <td>343</td>\n",
       "    </tr>\n",
       "    <tr>\n",
       "      <th>2</th>\n",
       "      <td>2013-12-25 03:45:04</td>\n",
       "      <td>2</td>\n",
       "      <td>1</td>\n",
       "      <td>359</td>\n",
       "    </tr>\n",
       "    <tr>\n",
       "      <th>...</th>\n",
       "      <td>...</td>\n",
       "      <td>...</td>\n",
       "      <td>...</td>\n",
       "      <td>...</td>\n",
       "    </tr>\n",
       "    <tr>\n",
       "      <th>11996</th>\n",
       "      <td>2013-09-06 06:14:15</td>\n",
       "      <td>11996</td>\n",
       "      <td>1</td>\n",
       "      <td>249</td>\n",
       "    </tr>\n",
       "    <tr>\n",
       "      <th>11997</th>\n",
       "      <td>2013-01-15 18:28:37</td>\n",
       "      <td>11997</td>\n",
       "      <td>1</td>\n",
       "      <td>15</td>\n",
       "    </tr>\n",
       "    <tr>\n",
       "      <th>11998</th>\n",
       "      <td>2014-04-27 12:45:16</td>\n",
       "      <td>11998</td>\n",
       "      <td>1</td>\n",
       "      <td>117</td>\n",
       "    </tr>\n",
       "    <tr>\n",
       "      <th>11999</th>\n",
       "      <td>2012-06-02 11:55:59</td>\n",
       "      <td>11999</td>\n",
       "      <td>1</td>\n",
       "      <td>154</td>\n",
       "    </tr>\n",
       "    <tr>\n",
       "      <th>12000</th>\n",
       "      <td>2014-01-26 08:57:12</td>\n",
       "      <td>12000</td>\n",
       "      <td>1</td>\n",
       "      <td>26</td>\n",
       "    </tr>\n",
       "  </tbody>\n",
       "</table>\n",
       "<p>207917 rows × 4 columns</p>\n",
       "</div>"
      ],
      "text/plain": [
       "                 time_stamp  user_id  visited  day\n",
       "user_id                                           \n",
       "1       2014-04-22 03:53:30        1        1  112\n",
       "2       2013-11-15 03:45:04        2        1  319\n",
       "2       2013-11-29 03:45:04        2        1  333\n",
       "2       2013-12-09 03:45:04        2        1  343\n",
       "2       2013-12-25 03:45:04        2        1  359\n",
       "...                     ...      ...      ...  ...\n",
       "11996   2013-09-06 06:14:15    11996        1  249\n",
       "11997   2013-01-15 18:28:37    11997        1   15\n",
       "11998   2014-04-27 12:45:16    11998        1  117\n",
       "11999   2012-06-02 11:55:59    11999        1  154\n",
       "12000   2014-01-26 08:57:12    12000        1   26\n",
       "\n",
       "[207917 rows x 4 columns]"
      ]
     },
     "execution_count": 8,
     "metadata": {},
     "output_type": "execute_result"
    }
   ],
   "source": [
    "logins['time_stamp']=pd.to_datetime(logins['time_stamp'])\n",
    "logins['day']=logins['time_stamp'].dt.dayofyear\n",
    "logins\n",
    "df=logins.set_index(logins['user_id'])\n",
    "df"
   ]
  },
  {
   "cell_type": "code",
   "execution_count": 9,
   "id": "86929852",
   "metadata": {},
   "outputs": [
    {
     "name": "stdout",
     "output_type": "stream",
     "text": [
      "207917\n"
     ]
    }
   ],
   "source": [
    "df_1=pd.DataFrame(df['day'])\n",
    "x=df_1.value_counts().sum()\n",
    "#print(df_1)\n",
    "print(x)"
   ]
  },
  {
   "cell_type": "code",
   "execution_count": 10,
   "id": "a63f362e",
   "metadata": {},
   "outputs": [
    {
     "name": "stdout",
     "output_type": "stream",
     "text": [
      "True\n"
     ]
    }
   ],
   "source": [
    "def three_in(list_v): \n",
    "    sum_diff=False\n",
    "    if len(list_v)==3:       \n",
    "        for i in range(1,len(list_v)):  \n",
    "            a=list_v[i]-list_v[i-1]\n",
    "            sum_diff+=abs(a)\n",
    "        if (sum_diff<=7):\n",
    "            #print(sum_diff)\n",
    "            return True\n",
    "        else:\n",
    "            return False\n",
    "    else:\n",
    "        return False\n",
    "\n",
    "j=[34, 39, 40]\n",
    "print(three_in(j))"
   ]
  },
  {
   "cell_type": "code",
   "execution_count": 11,
   "id": "9829763c",
   "metadata": {},
   "outputs": [
    {
     "name": "stdout",
     "output_type": "stream",
     "text": [
      "Index(['id_1', 'adopted'], dtype='object')\n"
     ]
    },
    {
     "data": {
      "text/html": [
       "<div>\n",
       "<style scoped>\n",
       "    .dataframe tbody tr th:only-of-type {\n",
       "        vertical-align: middle;\n",
       "    }\n",
       "\n",
       "    .dataframe tbody tr th {\n",
       "        vertical-align: top;\n",
       "    }\n",
       "\n",
       "    .dataframe thead th {\n",
       "        text-align: right;\n",
       "    }\n",
       "</style>\n",
       "<table border=\"1\" class=\"dataframe\">\n",
       "  <thead>\n",
       "    <tr style=\"text-align: right;\">\n",
       "      <th></th>\n",
       "      <th>id_1</th>\n",
       "      <th>adopted</th>\n",
       "    </tr>\n",
       "  </thead>\n",
       "  <tbody>\n",
       "  </tbody>\n",
       "</table>\n",
       "</div>"
      ],
      "text/plain": [
       "Empty DataFrame\n",
       "Columns: [id_1, adopted]\n",
       "Index: []"
      ]
     },
     "execution_count": 11,
     "metadata": {},
     "output_type": "execute_result"
    }
   ],
   "source": [
    "df_result = pd.DataFrame(columns=['id_1','adopted'])\n",
    "print(df_result.columns)\n",
    "df_result"
   ]
  },
  {
   "cell_type": "code",
   "execution_count": 12,
   "id": "71b20e88",
   "metadata": {},
   "outputs": [
    {
     "data": {
      "text/html": [
       "<div>\n",
       "<style scoped>\n",
       "    .dataframe tbody tr th:only-of-type {\n",
       "        vertical-align: middle;\n",
       "    }\n",
       "\n",
       "    .dataframe tbody tr th {\n",
       "        vertical-align: top;\n",
       "    }\n",
       "\n",
       "    .dataframe thead th {\n",
       "        text-align: right;\n",
       "    }\n",
       "</style>\n",
       "<table border=\"1\" class=\"dataframe\">\n",
       "  <thead>\n",
       "    <tr style=\"text-align: right;\">\n",
       "      <th></th>\n",
       "      <th>id_1</th>\n",
       "      <th>adopted</th>\n",
       "    </tr>\n",
       "  </thead>\n",
       "  <tbody>\n",
       "    <tr>\n",
       "      <th>0</th>\n",
       "      <td>2</td>\n",
       "      <td>False</td>\n",
       "    </tr>\n",
       "  </tbody>\n",
       "</table>\n",
       "</div>"
      ],
      "text/plain": [
       "  id_1 adopted\n",
       "0    2   False"
      ]
     },
     "execution_count": 12,
     "metadata": {},
     "output_type": "execute_result"
    }
   ],
   "source": [
    "\n",
    "df_r=pd.DataFrame(columns=['id_1','adopted'])\n",
    "#xz=pd.Series(data={'id_1':'2', 'adopted':'False'})\n",
    "xx={'id_1':'2', 'adopted':'False'}\n",
    "df_r=df_r.append(xx, ignore_index=True)\n",
    "df_r"
   ]
  },
  {
   "cell_type": "code",
   "execution_count": null,
   "id": "5dce3abd",
   "metadata": {
    "scrolled": true
   },
   "outputs": [],
   "source": []
  },
  {
   "cell_type": "code",
   "execution_count": 13,
   "id": "41e0f507",
   "metadata": {},
   "outputs": [
    {
     "name": "stdout",
     "output_type": "stream",
     "text": [
      "       id_1 adopted\n",
      "0         1   False\n",
      "1         2    True\n",
      "2         3   False\n",
      "3         4   False\n",
      "4         5   False\n",
      "...     ...     ...\n",
      "8818  11996   False\n",
      "8819  11997   False\n",
      "8820  11998   False\n",
      "8821  11999   False\n",
      "8822  12000   False\n",
      "\n",
      "[8823 rows x 2 columns]\n"
     ]
    }
   ],
   "source": [
    "df_2=df_1.head(25)\n",
    "#print(df_2)\n",
    "df_result = pd.DataFrame(columns=['id_1','adopted'])\n",
    "\n",
    "prev_id = None\n",
    "active_found = False\n",
    "for window in df_1.groupby('user_id')['day'].rolling(3):\n",
    "    #df_result['adopted']=three_in(window)\n",
    "    #print(\"--------------\")\n",
    "    window_as_list = list(window.iteritems())\n",
    "    cur_id = window_as_list[0][0]\n",
    "    #print(cur_id)\n",
    "    window_list = [ i[1] for i in window_as_list]\n",
    "    if three_in(window_list)==True:\n",
    "        active_found=True \n",
    "        #print(cur_id, \"true\")\n",
    "    #print(active_found)       \n",
    "    #print(window_list)\n",
    "    if prev_id is not None:\n",
    "        if prev_id != cur_id:\n",
    "            df_result=df_result.append({'id_1':prev_id,'adopted':active_found}, ignore_index=True)  \n",
    "            active_found = False\n",
    "    prev_id = cur_id    \n",
    "    #elif cur_id>=len(df_2.groupby('user_id')['day']):\n",
    "    #print(\"here\")\n",
    "    #print(active_found)\n",
    "df_result=df_result.append({'id_1':cur_id,'adopted':active_found}, ignore_index=True) \n",
    "       \n",
    "print(df_result)\n",
    "#window_as_list[-1][0]"
   ]
  },
  {
   "cell_type": "code",
   "execution_count": 14,
   "id": "9974619e",
   "metadata": {},
   "outputs": [
    {
     "name": "stdout",
     "output_type": "stream",
     "text": [
      "<class 'pandas.core.frame.DataFrame'>\n",
      "RangeIndex: 8823 entries, 0 to 8822\n",
      "Data columns (total 2 columns):\n",
      " #   Column   Non-Null Count  Dtype \n",
      "---  ------   --------------  ----- \n",
      " 0   id_1     8823 non-null   object\n",
      " 1   adopted  8823 non-null   object\n",
      "dtypes: object(2)\n",
      "memory usage: 138.0+ KB\n"
     ]
    },
    {
     "data": {
      "text/plain": [
       "False    7167\n",
       "True     1656\n",
       "Name: adopted, dtype: int64"
      ]
     },
     "execution_count": 14,
     "metadata": {},
     "output_type": "execute_result"
    }
   ],
   "source": [
    "df_result.info()\n",
    "df_result.adopted.value_counts()"
   ]
  },
  {
   "cell_type": "code",
   "execution_count": 15,
   "id": "518cc9e2",
   "metadata": {},
   "outputs": [
    {
     "data": {
      "text/html": [
       "<div>\n",
       "<style scoped>\n",
       "    .dataframe tbody tr th:only-of-type {\n",
       "        vertical-align: middle;\n",
       "    }\n",
       "\n",
       "    .dataframe tbody tr th {\n",
       "        vertical-align: top;\n",
       "    }\n",
       "\n",
       "    .dataframe thead th {\n",
       "        text-align: right;\n",
       "    }\n",
       "</style>\n",
       "<table border=\"1\" class=\"dataframe\">\n",
       "  <thead>\n",
       "    <tr style=\"text-align: right;\">\n",
       "      <th></th>\n",
       "      <th>object_id</th>\n",
       "      <th>creation_time</th>\n",
       "      <th>name</th>\n",
       "      <th>email</th>\n",
       "      <th>creation_source</th>\n",
       "      <th>last_session_creation_time</th>\n",
       "      <th>opted_in_to_mailing_list</th>\n",
       "      <th>enabled_for_marketing_drip</th>\n",
       "      <th>org_id</th>\n",
       "      <th>invited_by_user_id</th>\n",
       "    </tr>\n",
       "  </thead>\n",
       "  <tbody>\n",
       "    <tr>\n",
       "      <th>0</th>\n",
       "      <td>1</td>\n",
       "      <td>2014-04-22 03:53:30</td>\n",
       "      <td>Clausen August</td>\n",
       "      <td>AugustCClausen@yahoo.com</td>\n",
       "      <td>GUEST_INVITE</td>\n",
       "      <td>1.398139e+09</td>\n",
       "      <td>1</td>\n",
       "      <td>0</td>\n",
       "      <td>11</td>\n",
       "      <td>10803.0</td>\n",
       "    </tr>\n",
       "    <tr>\n",
       "      <th>1</th>\n",
       "      <td>2</td>\n",
       "      <td>2013-11-15 03:45:04</td>\n",
       "      <td>Poole Matthew</td>\n",
       "      <td>MatthewPoole@gustr.com</td>\n",
       "      <td>ORG_INVITE</td>\n",
       "      <td>1.396238e+09</td>\n",
       "      <td>0</td>\n",
       "      <td>0</td>\n",
       "      <td>1</td>\n",
       "      <td>316.0</td>\n",
       "    </tr>\n",
       "    <tr>\n",
       "      <th>2</th>\n",
       "      <td>3</td>\n",
       "      <td>2013-03-19 23:14:52</td>\n",
       "      <td>Bottrill Mitchell</td>\n",
       "      <td>MitchellBottrill@gustr.com</td>\n",
       "      <td>ORG_INVITE</td>\n",
       "      <td>1.363735e+09</td>\n",
       "      <td>0</td>\n",
       "      <td>0</td>\n",
       "      <td>94</td>\n",
       "      <td>1525.0</td>\n",
       "    </tr>\n",
       "    <tr>\n",
       "      <th>3</th>\n",
       "      <td>4</td>\n",
       "      <td>2013-05-21 08:09:28</td>\n",
       "      <td>Clausen Nicklas</td>\n",
       "      <td>NicklasSClausen@yahoo.com</td>\n",
       "      <td>GUEST_INVITE</td>\n",
       "      <td>1.369210e+09</td>\n",
       "      <td>0</td>\n",
       "      <td>0</td>\n",
       "      <td>1</td>\n",
       "      <td>5151.0</td>\n",
       "    </tr>\n",
       "    <tr>\n",
       "      <th>4</th>\n",
       "      <td>5</td>\n",
       "      <td>2013-01-17 10:14:20</td>\n",
       "      <td>Raw Grace</td>\n",
       "      <td>GraceRaw@yahoo.com</td>\n",
       "      <td>GUEST_INVITE</td>\n",
       "      <td>1.358850e+09</td>\n",
       "      <td>0</td>\n",
       "      <td>0</td>\n",
       "      <td>193</td>\n",
       "      <td>5240.0</td>\n",
       "    </tr>\n",
       "  </tbody>\n",
       "</table>\n",
       "</div>"
      ],
      "text/plain": [
       "   object_id        creation_time               name  \\\n",
       "0          1  2014-04-22 03:53:30     Clausen August   \n",
       "1          2  2013-11-15 03:45:04      Poole Matthew   \n",
       "2          3  2013-03-19 23:14:52  Bottrill Mitchell   \n",
       "3          4  2013-05-21 08:09:28    Clausen Nicklas   \n",
       "4          5  2013-01-17 10:14:20          Raw Grace   \n",
       "\n",
       "                        email creation_source  last_session_creation_time  \\\n",
       "0    AugustCClausen@yahoo.com    GUEST_INVITE                1.398139e+09   \n",
       "1      MatthewPoole@gustr.com      ORG_INVITE                1.396238e+09   \n",
       "2  MitchellBottrill@gustr.com      ORG_INVITE                1.363735e+09   \n",
       "3   NicklasSClausen@yahoo.com    GUEST_INVITE                1.369210e+09   \n",
       "4          GraceRaw@yahoo.com    GUEST_INVITE                1.358850e+09   \n",
       "\n",
       "   opted_in_to_mailing_list  enabled_for_marketing_drip  org_id  \\\n",
       "0                         1                           0      11   \n",
       "1                         0                           0       1   \n",
       "2                         0                           0      94   \n",
       "3                         0                           0       1   \n",
       "4                         0                           0     193   \n",
       "\n",
       "   invited_by_user_id  \n",
       "0             10803.0  \n",
       "1               316.0  \n",
       "2              1525.0  \n",
       "3              5151.0  \n",
       "4              5240.0  "
      ]
     },
     "execution_count": 15,
     "metadata": {},
     "output_type": "execute_result"
    }
   ],
   "source": [
    "users=pd.read_csv('takehome_users.csv')\n",
    "users.head()\n"
   ]
  },
  {
   "cell_type": "code",
   "execution_count": 16,
   "id": "8f93bf6e",
   "metadata": {},
   "outputs": [
    {
     "name": "stdout",
     "output_type": "stream",
     "text": [
      "<class 'pandas.core.frame.DataFrame'>\n",
      "RangeIndex: 12000 entries, 0 to 11999\n",
      "Data columns (total 10 columns):\n",
      " #   Column                      Non-Null Count  Dtype  \n",
      "---  ------                      --------------  -----  \n",
      " 0   object_id                   12000 non-null  int64  \n",
      " 1   creation_time               12000 non-null  object \n",
      " 2   name                        12000 non-null  object \n",
      " 3   email                       12000 non-null  object \n",
      " 4   creation_source             12000 non-null  object \n",
      " 5   last_session_creation_time  8823 non-null   float64\n",
      " 6   opted_in_to_mailing_list    12000 non-null  int64  \n",
      " 7   enabled_for_marketing_drip  12000 non-null  int64  \n",
      " 8   org_id                      12000 non-null  int64  \n",
      " 9   invited_by_user_id          6417 non-null   float64\n",
      "dtypes: float64(2), int64(4), object(4)\n",
      "memory usage: 937.6+ KB\n"
     ]
    }
   ],
   "source": [
    "users.info()"
   ]
  },
  {
   "cell_type": "code",
   "execution_count": 17,
   "id": "262e3650",
   "metadata": {},
   "outputs": [
    {
     "data": {
      "text/plain": [
       "0            1\n",
       "1            2\n",
       "2            3\n",
       "3            4\n",
       "4            5\n",
       "         ...  \n",
       "11995    11996\n",
       "11996    11997\n",
       "11997    11998\n",
       "11998    11999\n",
       "11999    12000\n",
       "Name: object_id, Length: 12000, dtype: int64"
      ]
     },
     "execution_count": 17,
     "metadata": {},
     "output_type": "execute_result"
    }
   ],
   "source": [
    "users.object_id"
   ]
  },
  {
   "cell_type": "code",
   "execution_count": 18,
   "id": "040f4e5a",
   "metadata": {},
   "outputs": [
    {
     "name": "stdout",
     "output_type": "stream",
     "text": [
      "<class 'pandas.core.frame.DataFrame'>\n",
      "Int64Index: 8823 entries, 0 to 8822\n",
      "Data columns (total 12 columns):\n",
      " #   Column                      Non-Null Count  Dtype  \n",
      "---  ------                      --------------  -----  \n",
      " 0   object_id                   8823 non-null   object \n",
      " 1   creation_time               8823 non-null   object \n",
      " 2   name                        8823 non-null   object \n",
      " 3   email                       8823 non-null   object \n",
      " 4   creation_source             8823 non-null   object \n",
      " 5   last_session_creation_time  8823 non-null   float64\n",
      " 6   opted_in_to_mailing_list    8823 non-null   int64  \n",
      " 7   enabled_for_marketing_drip  8823 non-null   int64  \n",
      " 8   org_id                      8823 non-null   int64  \n",
      " 9   invited_by_user_id          4776 non-null   float64\n",
      " 10  id_1                        8823 non-null   object \n",
      " 11  adopted                     8823 non-null   object \n",
      "dtypes: float64(2), int64(3), object(7)\n",
      "memory usage: 896.1+ KB\n"
     ]
    }
   ],
   "source": [
    "users_adopted=pd.merge(users,df_result,how='inner',left_on=['object_id'],right_on=['id_1'])\n",
    "users_adopted.info()"
   ]
  },
  {
   "cell_type": "code",
   "execution_count": 19,
   "id": "2e047615",
   "metadata": {},
   "outputs": [
    {
     "data": {
      "text/html": [
       "<div>\n",
       "<style scoped>\n",
       "    .dataframe tbody tr th:only-of-type {\n",
       "        vertical-align: middle;\n",
       "    }\n",
       "\n",
       "    .dataframe tbody tr th {\n",
       "        vertical-align: top;\n",
       "    }\n",
       "\n",
       "    .dataframe thead th {\n",
       "        text-align: right;\n",
       "    }\n",
       "</style>\n",
       "<table border=\"1\" class=\"dataframe\">\n",
       "  <thead>\n",
       "    <tr style=\"text-align: right;\">\n",
       "      <th></th>\n",
       "      <th>last_session_creation_time</th>\n",
       "      <th>opted_in_to_mailing_list</th>\n",
       "      <th>enabled_for_marketing_drip</th>\n",
       "      <th>org_id</th>\n",
       "      <th>invited_by_user_id</th>\n",
       "    </tr>\n",
       "  </thead>\n",
       "  <tbody>\n",
       "    <tr>\n",
       "      <th>count</th>\n",
       "      <td>8.823000e+03</td>\n",
       "      <td>8823.000000</td>\n",
       "      <td>8823.000000</td>\n",
       "      <td>8823.000000</td>\n",
       "      <td>4776.000000</td>\n",
       "    </tr>\n",
       "    <tr>\n",
       "      <th>mean</th>\n",
       "      <td>1.379279e+09</td>\n",
       "      <td>0.252295</td>\n",
       "      <td>0.151989</td>\n",
       "      <td>142.572254</td>\n",
       "      <td>5980.495394</td>\n",
       "    </tr>\n",
       "    <tr>\n",
       "      <th>std</th>\n",
       "      <td>1.953116e+07</td>\n",
       "      <td>0.434354</td>\n",
       "      <td>0.359031</td>\n",
       "      <td>124.176422</td>\n",
       "      <td>3394.211361</td>\n",
       "    </tr>\n",
       "    <tr>\n",
       "      <th>min</th>\n",
       "      <td>1.338452e+09</td>\n",
       "      <td>0.000000</td>\n",
       "      <td>0.000000</td>\n",
       "      <td>0.000000</td>\n",
       "      <td>3.000000</td>\n",
       "    </tr>\n",
       "    <tr>\n",
       "      <th>25%</th>\n",
       "      <td>1.363195e+09</td>\n",
       "      <td>0.000000</td>\n",
       "      <td>0.000000</td>\n",
       "      <td>30.000000</td>\n",
       "      <td>3071.000000</td>\n",
       "    </tr>\n",
       "    <tr>\n",
       "      <th>50%</th>\n",
       "      <td>1.382888e+09</td>\n",
       "      <td>0.000000</td>\n",
       "      <td>0.000000</td>\n",
       "      <td>109.000000</td>\n",
       "      <td>5947.000000</td>\n",
       "    </tr>\n",
       "    <tr>\n",
       "      <th>75%</th>\n",
       "      <td>1.398443e+09</td>\n",
       "      <td>1.000000</td>\n",
       "      <td>0.000000</td>\n",
       "      <td>239.000000</td>\n",
       "      <td>8857.250000</td>\n",
       "    </tr>\n",
       "    <tr>\n",
       "      <th>max</th>\n",
       "      <td>1.402067e+09</td>\n",
       "      <td>1.000000</td>\n",
       "      <td>1.000000</td>\n",
       "      <td>416.000000</td>\n",
       "      <td>11999.000000</td>\n",
       "    </tr>\n",
       "  </tbody>\n",
       "</table>\n",
       "</div>"
      ],
      "text/plain": [
       "       last_session_creation_time  opted_in_to_mailing_list  \\\n",
       "count                8.823000e+03               8823.000000   \n",
       "mean                 1.379279e+09                  0.252295   \n",
       "std                  1.953116e+07                  0.434354   \n",
       "min                  1.338452e+09                  0.000000   \n",
       "25%                  1.363195e+09                  0.000000   \n",
       "50%                  1.382888e+09                  0.000000   \n",
       "75%                  1.398443e+09                  1.000000   \n",
       "max                  1.402067e+09                  1.000000   \n",
       "\n",
       "       enabled_for_marketing_drip       org_id  invited_by_user_id  \n",
       "count                 8823.000000  8823.000000         4776.000000  \n",
       "mean                     0.151989   142.572254         5980.495394  \n",
       "std                      0.359031   124.176422         3394.211361  \n",
       "min                      0.000000     0.000000            3.000000  \n",
       "25%                      0.000000    30.000000         3071.000000  \n",
       "50%                      0.000000   109.000000         5947.000000  \n",
       "75%                      0.000000   239.000000         8857.250000  \n",
       "max                      1.000000   416.000000        11999.000000  "
      ]
     },
     "execution_count": 19,
     "metadata": {},
     "output_type": "execute_result"
    }
   ],
   "source": [
    "users_adopted.describe()"
   ]
  },
  {
   "cell_type": "code",
   "execution_count": 20,
   "id": "74685556",
   "metadata": {},
   "outputs": [
    {
     "data": {
      "text/plain": [
       "object_id                        0\n",
       "creation_time                    0\n",
       "name                             0\n",
       "email                            0\n",
       "creation_source                  0\n",
       "last_session_creation_time       0\n",
       "opted_in_to_mailing_list         0\n",
       "enabled_for_marketing_drip       0\n",
       "org_id                           0\n",
       "invited_by_user_id            4047\n",
       "id_1                             0\n",
       "adopted                          0\n",
       "dtype: int64"
      ]
     },
     "execution_count": 20,
     "metadata": {},
     "output_type": "execute_result"
    }
   ],
   "source": [
    "users_adopted.isnull().sum()\n",
    "#invited_by_user_id may not be needed. I asked myself if this will matter to prediction, probably not."
   ]
  },
  {
   "cell_type": "code",
   "execution_count": 21,
   "id": "eb6fa49b",
   "metadata": {},
   "outputs": [
    {
     "data": {
      "text/plain": [
       "0      2014-04-22 03:53:30\n",
       "1      2013-11-15 03:45:04\n",
       "2      2013-03-19 23:14:52\n",
       "3      2013-05-21 08:09:28\n",
       "4      2013-01-17 10:14:20\n",
       "               ...        \n",
       "8818   2013-09-06 06:14:15\n",
       "8819   2013-01-10 18:28:37\n",
       "8820   2014-04-27 12:45:16\n",
       "8821   2012-05-31 11:55:59\n",
       "8822   2014-01-26 08:57:12\n",
       "Name: creation_time, Length: 8823, dtype: datetime64[ns]"
      ]
     },
     "execution_count": 21,
     "metadata": {},
     "output_type": "execute_result"
    }
   ],
   "source": [
    "pd.to_datetime(users_adopted.creation_time)"
   ]
  },
  {
   "cell_type": "code",
   "execution_count": 22,
   "id": "ea74e896",
   "metadata": {},
   "outputs": [
    {
     "name": "stdout",
     "output_type": "stream",
     "text": [
      "<class 'pandas.core.frame.DataFrame'>\n",
      "Int64Index: 8823 entries, 0 to 8822\n",
      "Data columns (total 12 columns):\n",
      " #   Column                      Non-Null Count  Dtype  \n",
      "---  ------                      --------------  -----  \n",
      " 0   object_id                   8823 non-null   object \n",
      " 1   creation_time               8823 non-null   object \n",
      " 2   name                        8823 non-null   object \n",
      " 3   email                       8823 non-null   object \n",
      " 4   creation_source             8823 non-null   object \n",
      " 5   last_session_creation_time  8823 non-null   float64\n",
      " 6   opted_in_to_mailing_list    8823 non-null   int64  \n",
      " 7   enabled_for_marketing_drip  8823 non-null   int64  \n",
      " 8   org_id                      8823 non-null   int64  \n",
      " 9   invited_by_user_id          8823 non-null   object \n",
      " 10  id_1                        8823 non-null   object \n",
      " 11  adopted                     8823 non-null   object \n",
      "dtypes: float64(1), int64(3), object(8)\n",
      "memory usage: 896.1+ KB\n"
     ]
    }
   ],
   "source": [
    "users_adopted.invited_by_user_id.nunique()\n",
    "users_adopted.invited_by_user_id.value_counts()\n",
    "users_adopted.invited_by_user_id.astype('str')\n",
    "users_adopted.invited_by_user_id.fillna('0',inplace=True )\n",
    "users_adopted.info()\n",
    "#I will decide which features to use. The id columns , the email address (uniqe like id), and the users names will be dropped. "
   ]
  },
  {
   "cell_type": "code",
   "execution_count": 23,
   "id": "5b554921",
   "metadata": {},
   "outputs": [
    {
     "name": "stdout",
     "output_type": "stream",
     "text": [
      "<class 'pandas.core.frame.DataFrame'>\n",
      "Int64Index: 8823 entries, 0 to 8822\n",
      "Data columns (total 12 columns):\n",
      " #   Column                      Non-Null Count  Dtype  \n",
      "---  ------                      --------------  -----  \n",
      " 0   object_id                   8823 non-null   object \n",
      " 1   creation_time               8823 non-null   object \n",
      " 2   name                        8823 non-null   object \n",
      " 3   email                       8823 non-null   object \n",
      " 4   creation_source             8823 non-null   object \n",
      " 5   last_session_creation_time  8823 non-null   float64\n",
      " 6   opted_in_to_mailing_list    8823 non-null   int64  \n",
      " 7   enabled_for_marketing_drip  8823 non-null   int64  \n",
      " 8   org_id                      8823 non-null   object \n",
      " 9   invited_by_user_id          8823 non-null   object \n",
      " 10  id_1                        8823 non-null   object \n",
      " 11  adopted                     8823 non-null   object \n",
      "dtypes: float64(1), int64(2), object(9)\n",
      "memory usage: 896.1+ KB\n"
     ]
    }
   ],
   "source": [
    "#org_id is categorical\n",
    "users_adopted.org_id=users_adopted.org_id.astype('str')\n",
    "users_adopted.info()"
   ]
  },
  {
   "cell_type": "code",
   "execution_count": 24,
   "id": "ab7d0e9a",
   "metadata": {},
   "outputs": [
    {
     "data": {
      "text/plain": [
       "0"
      ]
     },
     "execution_count": 24,
     "metadata": {},
     "output_type": "execute_result"
    }
   ],
   "source": [
    "users_adopted.duplicated().sum()"
   ]
  },
  {
   "cell_type": "code",
   "execution_count": 25,
   "id": "85428312",
   "metadata": {},
   "outputs": [
    {
     "data": {
      "text/plain": [
       "array([[<AxesSubplot:title={'center':'last_session_creation_time'}>,\n",
       "        <AxesSubplot:title={'center':'opted_in_to_mailing_list'}>],\n",
       "       [<AxesSubplot:title={'center':'enabled_for_marketing_drip'}>,\n",
       "        <AxesSubplot:>]], dtype=object)"
      ]
     },
     "execution_count": 25,
     "metadata": {},
     "output_type": "execute_result"
    },
    {
     "data": {
      "image/png": "[encoded data removed]",
      "text/plain": [
       "<Figure size 432x288 with 4 Axes>"
      ]
     },
     "metadata": {
      "needs_background": "light"
     },
     "output_type": "display_data"
    }
   ],
   "source": [
    "users_adopted.hist()"
   ]
  },
  {
   "cell_type": "code",
   "execution_count": 26,
   "id": "d99923e0",
   "metadata": {},
   "outputs": [
    {
     "data": {
      "text/plain": [
       "<AxesSubplot:>"
      ]
     },
     "execution_count": 26,
     "metadata": {},
     "output_type": "execute_result"
    },
    {
     "data": {
      "image/png": "[encoded data removed]",
      "text/plain": [
       "<Figure size 432x288 with 2 Axes>"
      ]
     },
     "metadata": {
      "needs_background": "light"
     },
     "output_type": "display_data"
    }
   ],
   "source": [
    "correlations=users_adopted.corr()\n",
    "sns.heatmap(correlations, annot=True, cmap=\"coolwarm\")\n",
    "#opted into mailing list and enabled marketing drip are highly correlated.\n"
   ]
  },
  {
   "cell_type": "code",
   "execution_count": 27,
   "id": "61f0b241",
   "metadata": {},
   "outputs": [],
   "source": [
    "# We have categorical features and they are also correlated.\n"
   ]
  },
  {
   "cell_type": "code",
   "execution_count": 29,
   "id": "8b93e842",
   "metadata": {},
   "outputs": [],
   "source": [
    "#To choose the algorithms for this classification I was looking for model that can handle best categorical features \n",
    "#and also models that could handle colinearity of some features. This is because we don't have many features and cannot drop any.\n",
    "#LASSO\n",
    "#Ridge Regression\n",
    "#desition tree\n",
    "#logistic"
   ]
  },
  {
   "cell_type": "code",
   "execution_count": null,
   "id": "75f02988",
   "metadata": {},
   "outputs": [],
   "source": [
    "#scale the features to use in Lasso and Ridge is nececery.\n"
   ]
  },
  {
   "cell_type": "code",
   "execution_count": 30,
   "id": "e3135458",
   "metadata": {},
   "outputs": [
    {
     "data": {
      "text/html": [
       "<div>\n",
       "<style scoped>\n",
       "    .dataframe tbody tr th:only-of-type {\n",
       "        vertical-align: middle;\n",
       "    }\n",
       "\n",
       "    .dataframe tbody tr th {\n",
       "        vertical-align: top;\n",
       "    }\n",
       "\n",
       "    .dataframe thead th {\n",
       "        text-align: right;\n",
       "    }\n",
       "</style>\n",
       "<table border=\"1\" class=\"dataframe\">\n",
       "  <thead>\n",
       "    <tr style=\"text-align: right;\">\n",
       "      <th></th>\n",
       "      <th>object_id</th>\n",
       "      <th>creation_time</th>\n",
       "      <th>name</th>\n",
       "      <th>email</th>\n",
       "      <th>creation_source</th>\n",
       "      <th>last_session_creation_time</th>\n",
       "      <th>opted_in_to_mailing_list</th>\n",
       "      <th>enabled_for_marketing_drip</th>\n",
       "      <th>org_id</th>\n",
       "      <th>invited_by_user_id</th>\n",
       "      <th>id_1</th>\n",
       "      <th>adopted</th>\n",
       "      <th>creation_t</th>\n",
       "    </tr>\n",
       "  </thead>\n",
       "  <tbody>\n",
       "    <tr>\n",
       "      <th>0</th>\n",
       "      <td>1</td>\n",
       "      <td>2014-04-22 03:53:30</td>\n",
       "      <td>Clausen August</td>\n",
       "      <td>AugustCClausen@yahoo.com</td>\n",
       "      <td>GUEST_INVITE</td>\n",
       "      <td>1.398139e+09</td>\n",
       "      <td>1</td>\n",
       "      <td>0</td>\n",
       "      <td>11</td>\n",
       "      <td>10803.0</td>\n",
       "      <td>1</td>\n",
       "      <td>False</td>\n",
       "      <td>1.398139e+09</td>\n",
       "    </tr>\n",
       "    <tr>\n",
       "      <th>1</th>\n",
       "      <td>2</td>\n",
       "      <td>2013-11-15 03:45:04</td>\n",
       "      <td>Poole Matthew</td>\n",
       "      <td>MatthewPoole@gustr.com</td>\n",
       "      <td>ORG_INVITE</td>\n",
       "      <td>1.396238e+09</td>\n",
       "      <td>0</td>\n",
       "      <td>0</td>\n",
       "      <td>1</td>\n",
       "      <td>316.0</td>\n",
       "      <td>2</td>\n",
       "      <td>True</td>\n",
       "      <td>1.384487e+09</td>\n",
       "    </tr>\n",
       "    <tr>\n",
       "      <th>2</th>\n",
       "      <td>3</td>\n",
       "      <td>2013-03-19 23:14:52</td>\n",
       "      <td>Bottrill Mitchell</td>\n",
       "      <td>MitchellBottrill@gustr.com</td>\n",
       "      <td>ORG_INVITE</td>\n",
       "      <td>1.363735e+09</td>\n",
       "      <td>0</td>\n",
       "      <td>0</td>\n",
       "      <td>94</td>\n",
       "      <td>1525.0</td>\n",
       "      <td>3</td>\n",
       "      <td>False</td>\n",
       "      <td>1.363735e+09</td>\n",
       "    </tr>\n",
       "    <tr>\n",
       "      <th>3</th>\n",
       "      <td>4</td>\n",
       "      <td>2013-05-21 08:09:28</td>\n",
       "      <td>Clausen Nicklas</td>\n",
       "      <td>NicklasSClausen@yahoo.com</td>\n",
       "      <td>GUEST_INVITE</td>\n",
       "      <td>1.369210e+09</td>\n",
       "      <td>0</td>\n",
       "      <td>0</td>\n",
       "      <td>1</td>\n",
       "      <td>5151.0</td>\n",
       "      <td>4</td>\n",
       "      <td>False</td>\n",
       "      <td>1.369124e+09</td>\n",
       "    </tr>\n",
       "    <tr>\n",
       "      <th>4</th>\n",
       "      <td>5</td>\n",
       "      <td>2013-01-17 10:14:20</td>\n",
       "      <td>Raw Grace</td>\n",
       "      <td>GraceRaw@yahoo.com</td>\n",
       "      <td>GUEST_INVITE</td>\n",
       "      <td>1.358850e+09</td>\n",
       "      <td>0</td>\n",
       "      <td>0</td>\n",
       "      <td>193</td>\n",
       "      <td>5240.0</td>\n",
       "      <td>5</td>\n",
       "      <td>False</td>\n",
       "      <td>1.358418e+09</td>\n",
       "    </tr>\n",
       "  </tbody>\n",
       "</table>\n",
       "</div>"
      ],
      "text/plain": [
       "  object_id        creation_time               name  \\\n",
       "0         1  2014-04-22 03:53:30     Clausen August   \n",
       "1         2  2013-11-15 03:45:04      Poole Matthew   \n",
       "2         3  2013-03-19 23:14:52  Bottrill Mitchell   \n",
       "3         4  2013-05-21 08:09:28    Clausen Nicklas   \n",
       "4         5  2013-01-17 10:14:20          Raw Grace   \n",
       "\n",
       "                        email creation_source  last_session_creation_time  \\\n",
       "0    AugustCClausen@yahoo.com    GUEST_INVITE                1.398139e+09   \n",
       "1      MatthewPoole@gustr.com      ORG_INVITE                1.396238e+09   \n",
       "2  MitchellBottrill@gustr.com      ORG_INVITE                1.363735e+09   \n",
       "3   NicklasSClausen@yahoo.com    GUEST_INVITE                1.369210e+09   \n",
       "4          GraceRaw@yahoo.com    GUEST_INVITE                1.358850e+09   \n",
       "\n",
       "   opted_in_to_mailing_list  enabled_for_marketing_drip org_id  \\\n",
       "0                         1                           0     11   \n",
       "1                         0                           0      1   \n",
       "2                         0                           0     94   \n",
       "3                         0                           0      1   \n",
       "4                         0                           0    193   \n",
       "\n",
       "  invited_by_user_id id_1 adopted    creation_t  \n",
       "0            10803.0    1   False  1.398139e+09  \n",
       "1              316.0    2    True  1.384487e+09  \n",
       "2             1525.0    3   False  1.363735e+09  \n",
       "3             5151.0    4   False  1.369124e+09  \n",
       "4             5240.0    5   False  1.358418e+09  "
      ]
     },
     "execution_count": 30,
     "metadata": {},
     "output_type": "execute_result"
    }
   ],
   "source": [
    "#print(users_adopted.head())\n",
    "users_adopted.creation_time=users_adopted.creation_time.astype('str')\n",
    "users_adopted.creation_time\n",
    "from pandas._libs.tslibs.parsing import guess_datetime_format\n",
    "\n",
    "g=guess_datetime_format('2014-04-22 03:53:30')\n",
    "g\n",
    "\n",
    "from datetime import datetime\n",
    "\n",
    "#print(users_adopted.creation_time)\n",
    "\n",
    "\n",
    "creation_t=[]\n",
    "\n",
    "for t in users_adopted.creation_time:\n",
    "    utc_time = datetime.strptime(t, g)\n",
    "    epoch_time = (utc_time - datetime(1970, 1, 1)).total_seconds()\n",
    "    creation_t.append(epoch_time)\n",
    "    \n",
    "users_adopted['creation_t']=creation_t\n",
    "users_adopted.head()"
   ]
  },
  {
   "cell_type": "code",
   "execution_count": 31,
   "id": "595115dd",
   "metadata": {},
   "outputs": [],
   "source": [
    "columns_tm=users_adopted[['creation_t','last_session_creation_time', 'opted_in_to_mailing_list',\n",
    "       'enabled_for_marketing_drip']]\n",
    "categorical=users_adopted[['org_id','creation_source','invited_by_user_id']]\n"
   ]
  },
  {
   "cell_type": "code",
   "execution_count": null,
   "id": "966a2ad4",
   "metadata": {},
   "outputs": [],
   "source": [
    "#I had a thought to transform to improve model's power but we don't have real continuios features."
   ]
  },
  {
   "cell_type": "code",
   "execution_count": 32,
   "id": "e3fd8e75",
   "metadata": {},
   "outputs": [
    {
     "data": {
      "text/html": [
       "<div>\n",
       "<style scoped>\n",
       "    .dataframe tbody tr th:only-of-type {\n",
       "        vertical-align: middle;\n",
       "    }\n",
       "\n",
       "    .dataframe tbody tr th {\n",
       "        vertical-align: top;\n",
       "    }\n",
       "\n",
       "    .dataframe thead th {\n",
       "        text-align: right;\n",
       "    }\n",
       "</style>\n",
       "<table border=\"1\" class=\"dataframe\">\n",
       "  <thead>\n",
       "    <tr style=\"text-align: right;\">\n",
       "      <th></th>\n",
       "      <th>creation_t</th>\n",
       "      <th>last_session_creation_time</th>\n",
       "      <th>opted_in_to_mailing_list</th>\n",
       "      <th>enabled_for_marketing_drip</th>\n",
       "      <th>org_id_0</th>\n",
       "      <th>org_id_1</th>\n",
       "      <th>org_id_10</th>\n",
       "      <th>org_id_100</th>\n",
       "      <th>org_id_101</th>\n",
       "      <th>org_id_102</th>\n",
       "      <th>...</th>\n",
       "      <th>invited_by_user_id_11966.0</th>\n",
       "      <th>invited_by_user_id_11972.0</th>\n",
       "      <th>invited_by_user_id_11973.0</th>\n",
       "      <th>invited_by_user_id_11978.0</th>\n",
       "      <th>invited_by_user_id_11981.0</th>\n",
       "      <th>invited_by_user_id_11986.0</th>\n",
       "      <th>invited_by_user_id_11994.0</th>\n",
       "      <th>invited_by_user_id_11997.0</th>\n",
       "      <th>invited_by_user_id_11999.0</th>\n",
       "      <th>invited_by_user_id_0</th>\n",
       "    </tr>\n",
       "  </thead>\n",
       "  <tbody>\n",
       "    <tr>\n",
       "      <th>0</th>\n",
       "      <td>1.398139e+09</td>\n",
       "      <td>1.398139e+09</td>\n",
       "      <td>1</td>\n",
       "      <td>0</td>\n",
       "      <td>0</td>\n",
       "      <td>0</td>\n",
       "      <td>0</td>\n",
       "      <td>0</td>\n",
       "      <td>0</td>\n",
       "      <td>0</td>\n",
       "      <td>...</td>\n",
       "      <td>0</td>\n",
       "      <td>0</td>\n",
       "      <td>0</td>\n",
       "      <td>0</td>\n",
       "      <td>0</td>\n",
       "      <td>0</td>\n",
       "      <td>0</td>\n",
       "      <td>0</td>\n",
       "      <td>0</td>\n",
       "      <td>0</td>\n",
       "    </tr>\n",
       "    <tr>\n",
       "      <th>1</th>\n",
       "      <td>1.384487e+09</td>\n",
       "      <td>1.396238e+09</td>\n",
       "      <td>0</td>\n",
       "      <td>0</td>\n",
       "      <td>0</td>\n",
       "      <td>1</td>\n",
       "      <td>0</td>\n",
       "      <td>0</td>\n",
       "      <td>0</td>\n",
       "      <td>0</td>\n",
       "      <td>...</td>\n",
       "      <td>0</td>\n",
       "      <td>0</td>\n",
       "      <td>0</td>\n",
       "      <td>0</td>\n",
       "      <td>0</td>\n",
       "      <td>0</td>\n",
       "      <td>0</td>\n",
       "      <td>0</td>\n",
       "      <td>0</td>\n",
       "      <td>0</td>\n",
       "    </tr>\n",
       "    <tr>\n",
       "      <th>2</th>\n",
       "      <td>1.363735e+09</td>\n",
       "      <td>1.363735e+09</td>\n",
       "      <td>0</td>\n",
       "      <td>0</td>\n",
       "      <td>0</td>\n",
       "      <td>0</td>\n",
       "      <td>0</td>\n",
       "      <td>0</td>\n",
       "      <td>0</td>\n",
       "      <td>0</td>\n",
       "      <td>...</td>\n",
       "      <td>0</td>\n",
       "      <td>0</td>\n",
       "      <td>0</td>\n",
       "      <td>0</td>\n",
       "      <td>0</td>\n",
       "      <td>0</td>\n",
       "      <td>0</td>\n",
       "      <td>0</td>\n",
       "      <td>0</td>\n",
       "      <td>0</td>\n",
       "    </tr>\n",
       "    <tr>\n",
       "      <th>3</th>\n",
       "      <td>1.369124e+09</td>\n",
       "      <td>1.369210e+09</td>\n",
       "      <td>0</td>\n",
       "      <td>0</td>\n",
       "      <td>0</td>\n",
       "      <td>1</td>\n",
       "      <td>0</td>\n",
       "      <td>0</td>\n",
       "      <td>0</td>\n",
       "      <td>0</td>\n",
       "      <td>...</td>\n",
       "      <td>0</td>\n",
       "      <td>0</td>\n",
       "      <td>0</td>\n",
       "      <td>0</td>\n",
       "      <td>0</td>\n",
       "      <td>0</td>\n",
       "      <td>0</td>\n",
       "      <td>0</td>\n",
       "      <td>0</td>\n",
       "      <td>0</td>\n",
       "    </tr>\n",
       "    <tr>\n",
       "      <th>4</th>\n",
       "      <td>1.358418e+09</td>\n",
       "      <td>1.358850e+09</td>\n",
       "      <td>0</td>\n",
       "      <td>0</td>\n",
       "      <td>0</td>\n",
       "      <td>0</td>\n",
       "      <td>0</td>\n",
       "      <td>0</td>\n",
       "      <td>0</td>\n",
       "      <td>0</td>\n",
       "      <td>...</td>\n",
       "      <td>0</td>\n",
       "      <td>0</td>\n",
       "      <td>0</td>\n",
       "      <td>0</td>\n",
       "      <td>0</td>\n",
       "      <td>0</td>\n",
       "      <td>0</td>\n",
       "      <td>0</td>\n",
       "      <td>0</td>\n",
       "      <td>0</td>\n",
       "    </tr>\n",
       "    <tr>\n",
       "      <th>...</th>\n",
       "      <td>...</td>\n",
       "      <td>...</td>\n",
       "      <td>...</td>\n",
       "      <td>...</td>\n",
       "      <td>...</td>\n",
       "      <td>...</td>\n",
       "      <td>...</td>\n",
       "      <td>...</td>\n",
       "      <td>...</td>\n",
       "      <td>...</td>\n",
       "      <td>...</td>\n",
       "      <td>...</td>\n",
       "      <td>...</td>\n",
       "      <td>...</td>\n",
       "      <td>...</td>\n",
       "      <td>...</td>\n",
       "      <td>...</td>\n",
       "      <td>...</td>\n",
       "      <td>...</td>\n",
       "      <td>...</td>\n",
       "      <td>...</td>\n",
       "    </tr>\n",
       "    <tr>\n",
       "      <th>8818</th>\n",
       "      <td>1.378448e+09</td>\n",
       "      <td>1.378448e+09</td>\n",
       "      <td>0</td>\n",
       "      <td>0</td>\n",
       "      <td>0</td>\n",
       "      <td>0</td>\n",
       "      <td>0</td>\n",
       "      <td>0</td>\n",
       "      <td>0</td>\n",
       "      <td>0</td>\n",
       "      <td>...</td>\n",
       "      <td>0</td>\n",
       "      <td>0</td>\n",
       "      <td>0</td>\n",
       "      <td>0</td>\n",
       "      <td>0</td>\n",
       "      <td>0</td>\n",
       "      <td>0</td>\n",
       "      <td>0</td>\n",
       "      <td>0</td>\n",
       "      <td>0</td>\n",
       "    </tr>\n",
       "    <tr>\n",
       "      <th>8819</th>\n",
       "      <td>1.357843e+09</td>\n",
       "      <td>1.358275e+09</td>\n",
       "      <td>0</td>\n",
       "      <td>0</td>\n",
       "      <td>0</td>\n",
       "      <td>0</td>\n",
       "      <td>0</td>\n",
       "      <td>0</td>\n",
       "      <td>0</td>\n",
       "      <td>0</td>\n",
       "      <td>...</td>\n",
       "      <td>0</td>\n",
       "      <td>0</td>\n",
       "      <td>0</td>\n",
       "      <td>0</td>\n",
       "      <td>0</td>\n",
       "      <td>0</td>\n",
       "      <td>0</td>\n",
       "      <td>0</td>\n",
       "      <td>0</td>\n",
       "      <td>1</td>\n",
       "    </tr>\n",
       "    <tr>\n",
       "      <th>8820</th>\n",
       "      <td>1.398603e+09</td>\n",
       "      <td>1.398603e+09</td>\n",
       "      <td>1</td>\n",
       "      <td>1</td>\n",
       "      <td>0</td>\n",
       "      <td>0</td>\n",
       "      <td>0</td>\n",
       "      <td>0</td>\n",
       "      <td>0</td>\n",
       "      <td>0</td>\n",
       "      <td>...</td>\n",
       "      <td>0</td>\n",
       "      <td>0</td>\n",
       "      <td>0</td>\n",
       "      <td>0</td>\n",
       "      <td>0</td>\n",
       "      <td>0</td>\n",
       "      <td>0</td>\n",
       "      <td>0</td>\n",
       "      <td>0</td>\n",
       "      <td>0</td>\n",
       "    </tr>\n",
       "    <tr>\n",
       "      <th>8821</th>\n",
       "      <td>1.338465e+09</td>\n",
       "      <td>1.338638e+09</td>\n",
       "      <td>0</td>\n",
       "      <td>0</td>\n",
       "      <td>0</td>\n",
       "      <td>0</td>\n",
       "      <td>0</td>\n",
       "      <td>0</td>\n",
       "      <td>0</td>\n",
       "      <td>0</td>\n",
       "      <td>...</td>\n",
       "      <td>0</td>\n",
       "      <td>0</td>\n",
       "      <td>0</td>\n",
       "      <td>0</td>\n",
       "      <td>0</td>\n",
       "      <td>0</td>\n",
       "      <td>0</td>\n",
       "      <td>0</td>\n",
       "      <td>0</td>\n",
       "      <td>1</td>\n",
       "    </tr>\n",
       "    <tr>\n",
       "      <th>8822</th>\n",
       "      <td>1.390727e+09</td>\n",
       "      <td>1.390727e+09</td>\n",
       "      <td>0</td>\n",
       "      <td>1</td>\n",
       "      <td>1</td>\n",
       "      <td>0</td>\n",
       "      <td>0</td>\n",
       "      <td>0</td>\n",
       "      <td>0</td>\n",
       "      <td>0</td>\n",
       "      <td>...</td>\n",
       "      <td>0</td>\n",
       "      <td>0</td>\n",
       "      <td>0</td>\n",
       "      <td>0</td>\n",
       "      <td>0</td>\n",
       "      <td>0</td>\n",
       "      <td>0</td>\n",
       "      <td>0</td>\n",
       "      <td>0</td>\n",
       "      <td>1</td>\n",
       "    </tr>\n",
       "  </tbody>\n",
       "</table>\n",
       "<p>8823 rows × 2656 columns</p>\n",
       "</div>"
      ],
      "text/plain": [
       "        creation_t  last_session_creation_time  opted_in_to_mailing_list  \\\n",
       "0     1.398139e+09                1.398139e+09                         1   \n",
       "1     1.384487e+09                1.396238e+09                         0   \n",
       "2     1.363735e+09                1.363735e+09                         0   \n",
       "3     1.369124e+09                1.369210e+09                         0   \n",
       "4     1.358418e+09                1.358850e+09                         0   \n",
       "...            ...                         ...                       ...   \n",
       "8818  1.378448e+09                1.378448e+09                         0   \n",
       "8819  1.357843e+09                1.358275e+09                         0   \n",
       "8820  1.398603e+09                1.398603e+09                         1   \n",
       "8821  1.338465e+09                1.338638e+09                         0   \n",
       "8822  1.390727e+09                1.390727e+09                         0   \n",
       "\n",
       "      enabled_for_marketing_drip  org_id_0  org_id_1  org_id_10  org_id_100  \\\n",
       "0                              0         0         0          0           0   \n",
       "1                              0         0         1          0           0   \n",
       "2                              0         0         0          0           0   \n",
       "3                              0         0         1          0           0   \n",
       "4                              0         0         0          0           0   \n",
       "...                          ...       ...       ...        ...         ...   \n",
       "8818                           0         0         0          0           0   \n",
       "8819                           0         0         0          0           0   \n",
       "8820                           1         0         0          0           0   \n",
       "8821                           0         0         0          0           0   \n",
       "8822                           1         1         0          0           0   \n",
       "\n",
       "      org_id_101  org_id_102  ...  invited_by_user_id_11966.0  \\\n",
       "0              0           0  ...                           0   \n",
       "1              0           0  ...                           0   \n",
       "2              0           0  ...                           0   \n",
       "3              0           0  ...                           0   \n",
       "4              0           0  ...                           0   \n",
       "...          ...         ...  ...                         ...   \n",
       "8818           0           0  ...                           0   \n",
       "8819           0           0  ...                           0   \n",
       "8820           0           0  ...                           0   \n",
       "8821           0           0  ...                           0   \n",
       "8822           0           0  ...                           0   \n",
       "\n",
       "      invited_by_user_id_11972.0  invited_by_user_id_11973.0  \\\n",
       "0                              0                           0   \n",
       "1                              0                           0   \n",
       "2                              0                           0   \n",
       "3                              0                           0   \n",
       "4                              0                           0   \n",
       "...                          ...                         ...   \n",
       "8818                           0                           0   \n",
       "8819                           0                           0   \n",
       "8820                           0                           0   \n",
       "8821                           0                           0   \n",
       "8822                           0                           0   \n",
       "\n",
       "      invited_by_user_id_11978.0  invited_by_user_id_11981.0  \\\n",
       "0                              0                           0   \n",
       "1                              0                           0   \n",
       "2                              0                           0   \n",
       "3                              0                           0   \n",
       "4                              0                           0   \n",
       "...                          ...                         ...   \n",
       "8818                           0                           0   \n",
       "8819                           0                           0   \n",
       "8820                           0                           0   \n",
       "8821                           0                           0   \n",
       "8822                           0                           0   \n",
       "\n",
       "      invited_by_user_id_11986.0  invited_by_user_id_11994.0  \\\n",
       "0                              0                           0   \n",
       "1                              0                           0   \n",
       "2                              0                           0   \n",
       "3                              0                           0   \n",
       "4                              0                           0   \n",
       "...                          ...                         ...   \n",
       "8818                           0                           0   \n",
       "8819                           0                           0   \n",
       "8820                           0                           0   \n",
       "8821                           0                           0   \n",
       "8822                           0                           0   \n",
       "\n",
       "      invited_by_user_id_11997.0  invited_by_user_id_11999.0  \\\n",
       "0                              0                           0   \n",
       "1                              0                           0   \n",
       "2                              0                           0   \n",
       "3                              0                           0   \n",
       "4                              0                           0   \n",
       "...                          ...                         ...   \n",
       "8818                           0                           0   \n",
       "8819                           0                           0   \n",
       "8820                           0                           0   \n",
       "8821                           0                           0   \n",
       "8822                           0                           0   \n",
       "\n",
       "      invited_by_user_id_0  \n",
       "0                        0  \n",
       "1                        0  \n",
       "2                        0  \n",
       "3                        0  \n",
       "4                        0  \n",
       "...                    ...  \n",
       "8818                     0  \n",
       "8819                     1  \n",
       "8820                     0  \n",
       "8821                     1  \n",
       "8822                     1  \n",
       "\n",
       "[8823 rows x 2656 columns]"
      ]
     },
     "execution_count": 32,
     "metadata": {},
     "output_type": "execute_result"
    }
   ],
   "source": [
    "df = pd.concat([columns_tm, pd.get_dummies(categorical)], axis=1)\n",
    "df"
   ]
  },
  {
   "cell_type": "code",
   "execution_count": 33,
   "id": "6aa84310",
   "metadata": {},
   "outputs": [
    {
     "data": {
      "text/plain": [
       "0       0\n",
       "1       1\n",
       "2       0\n",
       "3       0\n",
       "4       0\n",
       "       ..\n",
       "8818    0\n",
       "8819    0\n",
       "8820    0\n",
       "8821    0\n",
       "8822    0\n",
       "Name: adopted, Length: 8823, dtype: int64"
      ]
     },
     "execution_count": 33,
     "metadata": {},
     "output_type": "execute_result"
    }
   ],
   "source": [
    "X=df\n",
    "y=users_adopted['adopted'].map({True:1,False:0 })\n",
    "y"
   ]
  },
  {
   "cell_type": "code",
   "execution_count": 34,
   "id": "f3be1add",
   "metadata": {},
   "outputs": [
    {
     "name": "stdout",
     "output_type": "stream",
     "text": [
      "<class 'pandas.core.frame.DataFrame'>\n",
      "Int64Index: 8823 entries, 0 to 8822\n",
      "Columns: 2656 entries, creation_t to invited_by_user_id_0\n",
      "dtypes: float64(2), int64(2), uint8(2652)\n",
      "memory usage: 22.7 MB\n"
     ]
    }
   ],
   "source": [
    "df.info()"
   ]
  },
  {
   "cell_type": "code",
   "execution_count": 35,
   "id": "12910148",
   "metadata": {},
   "outputs": [],
   "source": [
    "X_train, X_test, y_train, y_test=train_test_split(X, y, test_size=0.2, random_state=24)\n",
    "\n",
    "scaler=StandardScaler()\n",
    "scaler.fit(X_train)\n",
    "X_train_s=scaler.transform(X_train)\n",
    "X_test_s=scaler.transform(X_test)"
   ]
  },
  {
   "cell_type": "code",
   "execution_count": 58,
   "id": "30ef0b93",
   "metadata": {},
   "outputs": [
    {
     "name": "stdout",
     "output_type": "stream",
     "text": [
      "[0 0 0 0 0]\n"
     ]
    },
    {
     "data": {
      "text/plain": [
       "0.8080192689147068"
      ]
     },
     "execution_count": 58,
     "metadata": {},
     "output_type": "execute_result"
    }
   ],
   "source": [
    "# We can first check the with simple classifier as a predictor and evaluate it.\n",
    "dummy_c=DummyClassifier(strategy='most_frequent', random_state=24)\n",
    "dummy_c.fit(X_train_s, y_train)\n",
    "y_train_pred = dummy_c.predict(X_train_s)\n",
    "y_test_pred=dummy_c.predict(X_test_s)\n",
    "print(y_train_pred[:5])\n",
    "dummy_c.score(X_train_s, y_train)"
   ]
  },
  {
   "cell_type": "code",
   "execution_count": 265,
   "id": "acf976e7",
   "metadata": {},
   "outputs": [
    {
     "data": {
      "text/plain": [
       "Lasso(alpha=0.01)"
      ]
     },
     "execution_count": 265,
     "metadata": {},
     "output_type": "execute_result"
    }
   ],
   "source": [
    "model = Lasso()\n",
    "# define model evaluation method\n",
    "cv = RepeatedKFold(n_splits=10, n_repeats=3, random_state=24)\n",
    "lasso_params = {'alpha':[0.02, 0.024, 0.025, 0.026, 0.03]}\n",
    "grid = dict()\n",
    "grid['alpha'] = np.arange(0, 1, 0.01)\n",
    "#search\n",
    "search = GridSearchCV(model, grid, scoring='neg_mean_absolute_error', cv=cv, n_jobs=-1)\n",
    "results = search.fit(X_train_s, y_train)\n",
    "results.best_estimator_"
   ]
  },
  {
   "cell_type": "code",
   "execution_count": 264,
   "id": "940583bc",
   "metadata": {},
   "outputs": [
    {
     "name": "stdout",
     "output_type": "stream",
     "text": [
      "[0.98310486 0.99366487 0.97840146 0.96552886 0.96595512]\n",
      "cv mean train score 0.9770660437426599\n",
      "cv mean test score 0.9773310337511282\n"
     ]
    }
   ],
   "source": [
    "model=Lasso(alpha=0.01)\n",
    "model.fit(X_train_s, y_train)\n",
    "Lasso_pred=model.predict(X_test_s)\n",
    "cv_Lscores_train_= cross_val_score(model ,X_train_s,y_train,cv=5,scoring='roc_auc')\n",
    "cv_Lscores_test_= cross_val_score(model,X_test_s, y_test,cv=5,scoring='roc_auc')\n",
    "cv_scores_Lasso_test_= cv_Lscores_test_.mean()\n",
    "cv_scores_Lasso_train_= cv_Lscores_train_.mean()\n",
    "print(cv_Lscores_test_)\n",
    "print(\"cv mean train score\", cv_scores_Lasso_train_)\n",
    "print(\"cv mean test score\", cv_scores_Lasso_test_)"
   ]
  },
  {
   "cell_type": "code",
   "execution_count": 293,
   "id": "cb7bf6c5",
   "metadata": {},
   "outputs": [
    {
     "data": {
      "text/plain": [
       "DecisionTreeClassifier(max_depth=12, min_samples_leaf=12, random_state=24)"
      ]
     },
     "execution_count": 293,
     "metadata": {},
     "output_type": "execute_result"
    }
   ],
   "source": [
    "#n_components = list(range(1, X.shape[1]+1 ,1))\n",
    "model_tree=DecisionTreeClassifier(random_state=24)\n",
    "criterion = ['gini', 'entropy']\n",
    "max_depth = [2,4,6,8,10,12]\n",
    "min_samples_leaf=[2,4,6,8,10,12]\n",
    "min_samples_split=[2,4,6,8,10,12]\n",
    "parameters = dict(criterion=criterion, max_depth=max_depth, min_samples_leaf=min_samples_leaf,min_samples_split=min_samples_split )\n",
    "\n",
    "search_tree = GridSearchCV(estimator=model_tree, scoring='roc_auc', cv=5, param_grid=parameters, n_jobs=-1)\n",
    "results_tree = search_tree.fit(X_train_s, y_train)\n",
    "results_tree.best_estimator_\n",
    "\n"
   ]
  },
  {
   "cell_type": "code",
   "execution_count": 38,
   "id": "50da8f71",
   "metadata": {},
   "outputs": [
    {
     "name": "stdout",
     "output_type": "stream",
     "text": [
      "[0.97494312 0.97093288 0.93717292 0.94903299 0.94896699]\n",
      "cv mean train score 0.9744245276900854\n",
      "cv mean test score 0.9562097799619691\n"
     ]
    }
   ],
   "source": [
    "Tree=DecisionTreeClassifier(max_depth=12, min_samples_leaf=12, random_state=24)\n",
    "Tree.fit(X_train_s, y_train)\n",
    "Tree_pred=Tree.predict(X_test_s)\n",
    "cv_Tscores_train_= cross_val_score(Tree ,X_train_s,y_train,cv=5,scoring='roc_auc')\n",
    "cv_Tscores_test_= cross_val_score(Tree,X_test_s, y_test,cv=5,scoring='roc_auc')\n",
    "cv_scores_Tree_test_= cv_Tscores_test_.mean()\n",
    "cv_scores_Tree_train_= cv_Tscores_train_.mean()\n",
    "print(cv_Tscores_test_)\n",
    "print(\"cv mean train score\", cv_scores_Tree_train_)\n",
    "print(\"cv mean test score\", cv_scores_Tree_test_)"
   ]
  },
  {
   "cell_type": "code",
   "execution_count": 63,
   "id": "ae29deb5",
   "metadata": {},
   "outputs": [
    {
     "name": "stdout",
     "output_type": "stream",
     "text": [
      "last_session_creation_time 0.6435231580688494\n",
      "creation_t 0.3556580645293946\n",
      "invited_by_user_id_0 0.0006752677189787522\n",
      "creation_source_SIGNUP_GOOGLE_AUTH 5.5996913971512714e-05\n",
      "creation_source_PERSONAL_PROJECTS 5.306900199238863e-05\n"
     ]
    }
   ],
   "source": [
    "Tree.feature_importances_\n",
    "for importance, name in sorted(zip(Tree.feature_importances_, X_train.columns),reverse=True)[:5]:\n",
    "    print (name, importance)\n",
    "\n",
    "#PERSONAL_PROJECTS: invited to join another user'spersonal workspace\n",
    "#last_session_creation_time: unix timestamp of last login"
   ]
  },
  {
   "cell_type": "code",
   "execution_count": null,
   "id": "cef2f253",
   "metadata": {},
   "outputs": [],
   "source": [
    "#The simple predictor can predict accuratly 80 % of the cases.Our simple models improved this ability to almost to 98%.\n",
    "#The consideration would be what accuracy is expected or needed in this campany's project  for predicting adopted users."
   ]
  },
  {
   "cell_type": "code",
   "execution_count": null,
   "id": "9cf8637b",
   "metadata": {},
   "outputs": [],
   "source": [
    "\n"
   ]
  },
  {
   "cell_type": "code",
   "execution_count": null,
   "id": "15fba3fd",
   "metadata": {},
   "outputs": [],
   "source": []
  },
  {
   "cell_type": "code",
   "execution_count": null,
   "id": "3a0aa2cd",
   "metadata": {},
   "outputs": [],
   "source": []
  },
  {
   "cell_type": "code",
   "execution_count": 287,
   "id": "76f2c74f",
   "metadata": {},
   "outputs": [
    {
     "data": {
      "text/plain": [
       "dict_keys(['ccp_alpha', 'class_weight', 'criterion', 'max_depth', 'max_features', 'max_leaf_nodes', 'min_impurity_decrease', 'min_impurity_split', 'min_samples_leaf', 'min_samples_split', 'min_weight_fraction_leaf', 'random_state', 'splitter'])"
      ]
     },
     "execution_count": 287,
     "metadata": {},
     "output_type": "execute_result"
    }
   ],
   "source": [
    "model_tree.get_params().keys()"
   ]
  }
 ],
 "metadata": {
  "kernelspec": {
   "display_name": "Python 3",
   "language": "python",
   "name": "python3"
  },
  "language_info": {
   "codemirror_mode": {
    "name": "ipython",
    "version": 3
   },
   "file_extension": ".py",
   "mimetype": "text/x-python",
   "name": "python",
   "nbconvert_exporter": "python",
   "pygments_lexer": "ipython3",
   "version": "3.8.8"
  }
 },
 "nbformat": 4,
 "nbformat_minor": 5
}
